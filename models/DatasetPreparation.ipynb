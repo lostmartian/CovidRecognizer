{
  "nbformat": 4,
  "nbformat_minor": 0,
  "metadata": {
    "colab": {
      "name": "DatasetPreparation.ipynb",
      "provenance": [],
      "collapsed_sections": []
    },
    "kernelspec": {
      "name": "python3",
      "display_name": "Python 3"
    },
    "accelerator": "GPU"
  },
  "cells": [
    {
      "cell_type": "code",
      "metadata": {
        "id": "BDLI6kwgNCIW"
      },
      "source": [
        "import os, glob\n",
        "import nibabel as nib\n",
        "import numpy as np\n",
        "import matplotlib.pyplot as plt\n",
        "import cv2"
      ],
      "execution_count": 24,
      "outputs": []
    },
    {
      "cell_type": "code",
      "metadata": {
        "colab": {
          "base_uri": "https://localhost:8080/"
        },
        "id": "TMJDhTiANJUi",
        "outputId": "442fb580-5106-4577-a15d-59fd6e500bd0"
      },
      "source": [
        "%cd '/content/drive/MyDrive/Dataset/'"
      ],
      "execution_count": 25,
      "outputs": [
        {
          "output_type": "stream",
          "text": [
            "/content/drive/MyDrive/Dataset\n"
          ],
          "name": "stdout"
        }
      ]
    },
    {
      "cell_type": "markdown",
      "metadata": {
        "id": "0BbDhBVmNZNU"
      },
      "source": [
        "Loading the data and defining some path constants"
      ]
    },
    {
      "cell_type": "code",
      "metadata": {
        "colab": {
          "base_uri": "https://localhost:8080/"
        },
        "id": "sgL7OM1VNWvo",
        "outputId": "ba234162-c24f-401b-c0ca-1e6abe5932b6"
      },
      "source": [
        "# Input Directories\n",
        "\n",
        "data_input_path = os.getcwd()\n",
        "ct_scan_input = 'ct_scans/'\n",
        "inf_mask_input = 'infection_mask/'\n",
        "lung_inf_mask_input = 'lung_and_infection_mask/'\n",
        "lung_mask_input = 'lung_mask/'\n",
        "\n",
        "if not os.path.exists('dataset_prep'):\n",
        "    os.mkdir('dataset_prep')\n",
        "    print(\"Directory \" , 'dataset_prep' ,  \" Created \")\n",
        "else:    \n",
        "    print(\"Directory \" , 'dataset_prep' ,  \" already exists\")"
      ],
      "execution_count": 26,
      "outputs": [
        {
          "output_type": "stream",
          "text": [
            "Directory  dataset_prep  already exists\n"
          ],
          "name": "stdout"
        }
      ]
    },
    {
      "cell_type": "code",
      "metadata": {
        "colab": {
          "base_uri": "https://localhost:8080/"
        },
        "id": "7JTpP0zjQHZY",
        "outputId": "1b4b7526-c6d5-4f34-9860-6859ca5588bb"
      },
      "source": [
        "# Slice Output Directories\n",
        "\n",
        "data_output_path = 'dataset_prep/'\n",
        "\n",
        "#  CT_scans\n",
        "if not os.path.exists(os.path.join(data_output_path, 'ct_scans')):\n",
        "    os.mkdir(os.path.join(data_output_path, 'ct_scans'))\n",
        "    print(\"Directory \" , os.path.join(data_output_path, 'ct_scans') ,  \" Created \")\n",
        "else:    \n",
        "    print(\"Directory \" , os.path.join(data_output_path, 'ct_scans') ,  \" already exists\")\n",
        "\n",
        "# Infection Mask\n",
        "if not os.path.exists(os.path.join(data_output_path, 'infection_mask')):\n",
        "    os.mkdir(os.path.join(data_output_path, 'infection_mask'))\n",
        "    print(\"Directory \" , os.path.join(data_output_path, 'infection_mask') ,  \" Created \")\n",
        "else:    \n",
        "    print(\"Directory \" , os.path.join(data_output_path, 'infection_mask') ,  \" already exists\")\n",
        "\n",
        "# Lung and Infection Mask\n",
        "if not os.path.exists(os.path.join(data_output_path, 'lung_and_infection_mask')):\n",
        "    os.mkdir(os.path.join(data_output_path, 'lung_and_infection_mask'))\n",
        "    print(\"Directory \" , os.path.join(data_output_path, 'lung_and_infection_mask') ,  \" Created \")\n",
        "else:    \n",
        "    print(\"Directory \" , os.path.join(data_output_path, 'lung_and_infection_mask') ,  \" already exists\")\n",
        "\n",
        "# Lung Mask\n",
        "if not os.path.exists(os.path.join(data_output_path, 'lung_mask')):\n",
        "    os.mkdir(os.path.join(data_output_path, 'lung_mask'))\n",
        "    print(\"Directory \" , os.path.join(data_output_path, 'lung_mask') ,  \" Created \")\n",
        "else:    \n",
        "    print(\"Directory \" , os.path.join(data_output_path, 'lung_mask') ,  \" already exists\")\n",
        "\n",
        "# Output path variables\n",
        "ct_scan_output = os.path.join(data_output_path, 'ct_scans/')\n",
        "inf_mask_output = os.path.join(data_output_path, 'infection_mask/')\n",
        "lung_inf_mask_output = os.path.join(data_output_path, 'lung_and_infection_mask/')\n",
        "lung_mask_output = os.path.join(data_output_path, 'lung_mask/')"
      ],
      "execution_count": 36,
      "outputs": [
        {
          "output_type": "stream",
          "text": [
            "Directory  dataset_prep/ct_scans  already exists\n",
            "Directory  dataset_prep/infection_mask  already exists\n",
            "Directory  dataset_prep/lung_and_infection_mask  already exists\n",
            "Directory  dataset_prep/lung_mask  already exists\n"
          ],
          "name": "stdout"
        }
      ]
    },
    {
      "cell_type": "markdown",
      "metadata": {
        "id": "v7Oa2Q8oT3xa"
      },
      "source": [
        "Setting up the max and min Hounsfield values for normalization"
      ]
    },
    {
      "cell_type": "code",
      "metadata": {
        "colab": {
          "base_uri": "https://localhost:8080/"
        },
        "id": "OPk1uvfGTDY3",
        "outputId": "ee132812-4f53-412c-f926-45c7f5a61771"
      },
      "source": [
        "# Load image and see max min Hounsfield units\n",
        "\n",
        "imgPath = os.path.join(ct_scan_input, 'coronacases_org_001.nii')\n",
        "img = nib.load(imgPath).get_fdata()\n",
        "np.min(img), np.max(img), img.shape, type(img)"
      ],
      "execution_count": null,
      "outputs": [
        {
          "output_type": "execute_result",
          "data": {
            "text/plain": [
              "(-1021.0, 2996.0, (512, 512, 301), numpy.memmap)"
            ]
          },
          "metadata": {
            "tags": []
          },
          "execution_count": 5
        }
      ]
    },
    {
      "cell_type": "code",
      "metadata": {
        "colab": {
          "base_uri": "https://localhost:8080/"
        },
        "id": "Ha8wj8B2UNh2",
        "outputId": "e7c8eec7-99e2-4f04-abcd-c7f836dcf4e1"
      },
      "source": [
        "# Load mask and see max min Hounsfield units\n",
        "\n",
        "imgSlice = os.path.join(inf_mask_input, 'coronacases_001.nii')\n",
        "mask = nib.load(imgSlice).get_fdata()\n",
        "np.min(mask), np.max(mask), mask.shape, type(mask)"
      ],
      "execution_count": null,
      "outputs": [
        {
          "output_type": "execute_result",
          "data": {
            "text/plain": [
              "(0.0, 1.0, (512, 512, 301), numpy.memmap)"
            ]
          },
          "metadata": {
            "tags": []
          },
          "execution_count": 6
        }
      ]
    },
    {
      "cell_type": "code",
      "metadata": {
        "id": "VS-I6z6PUAfd"
      },
      "source": [
        "HOUNSFIELD_MIN = -1000\n",
        "HOUNSFIELD_MAX = 2500\n",
        "HOUNSFIELD_RANGE = HOUNSFIELD_MAX - HOUNSFIELD_MIN"
      ],
      "execution_count": 29,
      "outputs": []
    },
    {
      "cell_type": "code",
      "metadata": {
        "colab": {
          "base_uri": "https://localhost:8080/",
          "height": 269
        },
        "id": "eyVJgx6IUbIv",
        "outputId": "0b620a82-4bcf-453c-bd9c-dd0a1dab7656"
      },
      "source": [
        "# Show image slice\n",
        "\n",
        "imgSlice = mask[:,:,150]\n",
        "plt.imshow(imgSlice)\n",
        "plt.show()"
      ],
      "execution_count": null,
      "outputs": [
        {
          "output_type": "display_data",
          "data": {
            "image/png": "[encoded data removed]",
            "text/plain": [
              "<Figure size 432x288 with 1 Axes>"
            ]
          },
          "metadata": {
            "tags": [],
            "needs_background": "light"
          }
        }
      ]
    },
    {
      "cell_type": "code",
      "metadata": {
        "id": "zUQVDVQ9UHOd"
      },
      "source": [
        "# Slicing\n",
        "\n",
        "SLICE_X = True\n",
        "SLICE_Y = True\n",
        "SLICE_Z = False\n",
        "\n",
        "SLICE_DECIMATE_IDENTIFIER = 3"
      ],
      "execution_count": 30,
      "outputs": []
    },
    {
      "cell_type": "markdown",
      "metadata": {
        "id": "jrvg-_fZWpQp"
      },
      "source": [
        "Read and normalization functions"
      ]
    },
    {
      "cell_type": "code",
      "metadata": {
        "id": "0bl7dyjfWtvt"
      },
      "source": [
        "# Normalization function\n",
        "def normalizeImageIntensityRange(img):\n",
        "    img[img < HOUNSFIELD_MIN] = HOUNSFIELD_MIN\n",
        "    img[img > HOUNSFIELD_MAX] = HOUNSFIELD_MAX\n",
        "    return (img - HOUNSFIELD_MIN) / HOUNSFIELD_RANGE"
      ],
      "execution_count": 31,
      "outputs": []
    },
    {
      "cell_type": "code",
      "metadata": {
        "id": "1JTFDUboW-Uu"
      },
      "source": [
        "# Read image or mask volume\n",
        "def readImageVolume(imgPath, normalize=False):\n",
        "    img = nib.load(imgPath).get_fdata()\n",
        "    if normalize:\n",
        "        return normalizeImageIntensityRange(img)\n",
        "    else:\n",
        "        return img"
      ],
      "execution_count": 32,
      "outputs": []
    },
    {
      "cell_type": "code",
      "metadata": {
        "id": "yfnawuphXApl"
      },
      "source": [
        "# Save volume slice to file\n",
        "def saveSlice(img, fname, path):\n",
        "    img = np.uint8(img * 255)\n",
        "    fout = os.path.join(path, f'{fname}.png')\n",
        "    cv2.imwrite(fout, img)\n",
        "    print(f'[+] Slice saved: {fout}', end='\\r')"
      ],
      "execution_count": 33,
      "outputs": []
    },
    {
      "cell_type": "code",
      "metadata": {
        "id": "VIsgsBa3XJn_"
      },
      "source": [
        "# Slice image in all directions and save\n",
        "def sliceAndSaveVolumeImage(vol, fname, path):\n",
        "    (dimx, dimy, dimz) = vol.shape\n",
        "    print(dimx, dimy, dimz)\n",
        "    cnt = 0\n",
        "    if SLICE_X:\n",
        "        cnt += dimx\n",
        "        print('Slicing X: ')\n",
        "        for i in range(dimx):\n",
        "            saveSlice(vol[i,:,:], fname+f'-slice{str(i).zfill(SLICE_DECIMATE_IDENTIFIER)}_x', path)\n",
        "            \n",
        "    if SLICE_Y:\n",
        "        cnt += dimy\n",
        "        print('Slicing Y: ')\n",
        "        for i in range(dimy):\n",
        "            saveSlice(vol[:,i,:], fname+f'-slice{str(i).zfill(SLICE_DECIMATE_IDENTIFIER)}_y', path)\n",
        "            \n",
        "    if SLICE_Z:\n",
        "        cnt += dimz\n",
        "        print('Slicing Z: ')\n",
        "        for i in range(dimz):\n",
        "            saveSlice(vol[:,:,i], fname+f'-slice{str(i).zfill(SLICE_DECIMATE_IDENTIFIER)}_z', path)\n",
        "    return cnt"
      ],
      "execution_count": 34,
      "outputs": []
    },
    {
      "cell_type": "code",
      "metadata": {
        "id": "-0Lf1SkUYcr9"
      },
      "source": [
        "# CT Scans file save\n",
        "\n",
        "for index, filename in enumerate(sorted(glob.iglob(ct_scan_input + '*.nii'))):\n",
        "    img = readImageVolume(filename, True)\n",
        "    print(filename, img.shape, np.sum(img.shape), np.min(img), np.max(img))\n",
        "    numOfSlices = sliceAndSaveVolumeImage(img, 'ct_scan'+str(index), ct_scan_output)\n",
        "    print(f'\\n{filename}, {numOfSlices} slices created \\n')"
      ],
      "execution_count": null,
      "outputs": []
    },
    {
      "cell_type": "code",
      "metadata": {
        "id": "z_tJxKVUaZxD"
      },
      "source": [
        "# Infection Mask file save\n",
        "\n",
        "for index, filename in enumerate(sorted(glob.iglob(inf_mask_input + '*.nii'))):\n",
        "    img = readImageVolume(filename, False)\n",
        "    print(filename, img.shape, np.sum(img.shape), np.min(img), np.max(img))\n",
        "    numOfSlices = sliceAndSaveVolumeImage(img, 'inf_mask'+str(index), inf_mask_output)\n",
        "    print(f'\\n{filename}, {numOfSlices} slices created \\n')"
      ],
      "execution_count": null,
      "outputs": []
    },
    {
      "cell_type": "code",
      "metadata": {
        "id": "wUPWnjnWg8vz"
      },
      "source": [
        "# Lung and Infection Mask file save\n",
        "\n",
        "for index, filename in enumerate(sorted(glob.iglob(lung_inf_mask_input + '*.nii'))):\n",
        "    img = readImageVolume(filename, False)\n",
        "    print(filename, img.shape, np.sum(img.shape), np.min(img), np.max(img))\n",
        "    numOfSlices = sliceAndSaveVolumeImage(img, 'lung_inf_mask'+str(index), lung_inf_mask_output)\n",
        "    print(f'\\n{filename}, {numOfSlices} slices created \\n')"
      ],
      "execution_count": null,
      "outputs": []
    },
    {
      "cell_type": "code",
      "metadata": {
        "id": "VNlLh-ogiZ5a"
      },
      "source": [
        "# Lung Mask file save\n",
        "\n",
        "for index, filename in enumerate(sorted(glob.iglob(lung_mask_input + '*.nii'))):\n",
        "    img = readImageVolume(filename, False)\n",
        "    print(filename, img.shape, np.sum(img.shape), np.min(img), np.max(img))\n",
        "    numOfSlices = sliceAndSaveVolumeImage(img, 'lung_mask'+str(index), lung_mask_output)\n",
        "    print(f'\\n{filename}, {numOfSlices} slices created \\n')"
      ],
      "execution_count": null,
      "outputs": []
    }
  ]
}